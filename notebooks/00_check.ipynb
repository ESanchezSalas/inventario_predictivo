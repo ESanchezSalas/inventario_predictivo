{
 "cells": [
  {
   "cell_type": "code",
   "execution_count": 1,
   "id": "2f483d0c",
   "metadata": {},
   "outputs": [
    {
     "name": "stdout",
     "output_type": "stream",
     "text": [
      "Pandas versión: 2.3.1\n",
      "NumPy versión: 2.3.2\n"
     ]
    }
   ],
   "source": [
    "import pandas as pd\n",
    "import numpy as np\n",
    "\n",
    "print(\"Pandas versión:\", pd.__version__)\n",
    "print(\"NumPy versión:\", np.__version__)"
   ]
  },
  {
   "cell_type": "markdown",
   "id": "ad85c0e0",
   "metadata": {},
   "source": [
    "# 00 — Verificación rápida de datos\n",
    "\n",
    "Notebook de **sanidad** para confirmar que:\n",
    "- Existen las rutas `data/interim` y `data/processed`.\n",
    "- Los CSV esperados están presentes.\n",
    "- Las tablas cargan sin errores y con tipos razonables.\n",
    "- Muestras de filas y conteos básicos lucen consistentes."
   ]
  },
  {
   "cell_type": "markdown",
   "id": "4db250a4",
   "metadata": {},
   "source": [
    "## Archivos esperados\n",
    "\n",
    "- `data/interim/` generado por `python -m src.load_data` (estandarización base)\n",
    "- `data/processed/` generado por `python -m src.transform_template` (limpieza final)\n",
    "- Si no existen, ejecuta los módulos anteriores."
   ]
  },
  {
   "cell_type": "markdown",
   "id": "3b9d68e6",
   "metadata": {},
   "source": [
    "## Qué valida este notebook\n",
    "\n",
    "- **Estructura**: columnas clave y primeras filas\n",
    "- **Integridad**: nulos y duplicados (conteos rápidos)\n",
    "- **Tipos**: que `dates` sean fechas y `precios/cantidades` sean numéricos\n",
    "- **Muestras**: `head()` y `sample()` para inspección visual"
   ]
  },
  {
   "cell_type": "markdown",
   "id": "b8149601",
   "metadata": {},
   "source": [
    "## Resultados esperados\n",
    "\n",
    "- No deben aparecer errores al leer CSV/Parquet.\n",
    "- Cantidades de filas coherentes con lo documentado.\n",
    "- Columnas estandarizadas (`snake_case`) y fechas parseadas.\n",
    "- Cero o muy pocos duplicados tras la limpieza."
   ]
  },
  {
   "cell_type": "markdown",
   "id": "390e30dd",
   "metadata": {},
   "source": [
    "## Estado\n",
    "\n",
    "Si todas las celdas corren OK, los datos están listos para:\n",
    "- `01_cleaning.ipynb` (si haces limpieza adicional de puntas)\n",
    "- Explorar muestras en `data/sample/`\n",
    "- Construir dashboard/modelos"
   ]
  }
 ],
 "metadata": {
  "kernelspec": {
   "display_name": "Python (.venv inventario_predictivo)",
   "language": "python",
   "name": "inventario_predictivo"
  },
  "language_info": {
   "codemirror_mode": {
    "name": "ipython",
    "version": 3
   },
   "file_extension": ".py",
   "mimetype": "text/x-python",
   "name": "python",
   "nbconvert_exporter": "python",
   "pygments_lexer": "ipython3",
   "version": "3.13.5"
  }
 },
 "nbformat": 4,
 "nbformat_minor": 5
}
